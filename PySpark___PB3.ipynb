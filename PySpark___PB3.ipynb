{
  "cells": [
    {
      "cell_type": "code",
      "execution_count": 1,
      "metadata": {
        "colab": {
          "base_uri": "https://localhost:8080/"
        },
        "id": "8SiHcoUNgDQE",
        "outputId": "3377a8a2-22ba-4cf0-9ca5-3df68ba969ec"
      },
      "outputs": [
        {
          "output_type": "stream",
          "name": "stdout",
          "text": [
            "--2023-11-06 19:49:45--  https://storage.googleapis.com/bdt-spark-store/external_sources.csv\n",
            "Resolving storage.googleapis.com (storage.googleapis.com)... 108.177.120.207, 142.250.103.207, 142.251.172.207, ...\n",
            "Connecting to storage.googleapis.com (storage.googleapis.com)|108.177.120.207|:443... connected.\n",
            "HTTP request sent, awaiting response... 200 OK\n",
            "Length: 15503836 (15M) [text/csv]\n",
            "Saving to: ‘gcs_external_sources.csv’\n",
            "\n",
            "gcs_external_source 100%[===================>]  14.79M  13.8MB/s    in 1.1s    \n",
            "\n",
            "2023-11-06 19:49:47 (13.8 MB/s) - ‘gcs_external_sources.csv’ saved [15503836/15503836]\n",
            "\n"
          ]
        }
      ],
      "source": [
        "! wget https://storage.googleapis.com/bdt-spark-store/external_sources.csv -O gcs_external_sources.csv"
      ]
    },
    {
      "cell_type": "code",
      "execution_count": 2,
      "metadata": {
        "colab": {
          "base_uri": "https://localhost:8080/"
        },
        "id": "chzEz5-CgH7N",
        "outputId": "14e7cc65-ffb0-4db7-dae9-0a5dc7b3f7ad"
      },
      "outputs": [
        {
          "output_type": "stream",
          "name": "stdout",
          "text": [
            "--2023-11-06 19:49:47--  https://storage.googleapis.com/bdt-spark-store/internal_data.csv\n",
            "Resolving storage.googleapis.com (storage.googleapis.com)... 108.177.120.207, 142.250.103.207, 142.251.172.207, ...\n",
            "Connecting to storage.googleapis.com (storage.googleapis.com)|108.177.120.207|:443... connected.\n",
            "HTTP request sent, awaiting response... 200 OK\n",
            "Length: 152978396 (146M) [text/csv]\n",
            "Saving to: ‘gcs_internal_data.csv’\n",
            "\n",
            "gcs_internal_data.c 100%[===================>] 145.89M  33.1MB/s    in 4.9s    \n",
            "\n",
            "2023-11-06 19:49:53 (29.5 MB/s) - ‘gcs_internal_data.csv’ saved [152978396/152978396]\n",
            "\n"
          ]
        }
      ],
      "source": [
        "! wget https://storage.googleapis.com/bdt-spark-store/internal_data.csv -O gcs_internal_data.csv"
      ]
    },
    {
      "cell_type": "code",
      "source": [
        "!pip install pyspark"
      ],
      "metadata": {
        "colab": {
          "base_uri": "https://localhost:8080/"
        },
        "id": "E_tArO72EIDk",
        "outputId": "06809cf6-1130-4f19-d8bb-65176f480c64"
      },
      "execution_count": 3,
      "outputs": [
        {
          "output_type": "stream",
          "name": "stdout",
          "text": [
            "Collecting pyspark\n",
            "  Downloading pyspark-3.5.0.tar.gz (316.9 MB)\n",
            "\u001b[2K     \u001b[90m━━━━━━━━━━━━━━━━━━━━━━━━━━━━━━━━━━━━━━━━\u001b[0m \u001b[32m316.9/316.9 MB\u001b[0m \u001b[31m4.5 MB/s\u001b[0m eta \u001b[36m0:00:00\u001b[0m\n",
            "\u001b[?25h  Preparing metadata (setup.py) ... \u001b[?25l\u001b[?25hdone\n",
            "Requirement already satisfied: py4j==0.10.9.7 in /usr/local/lib/python3.10/dist-packages (from pyspark) (0.10.9.7)\n",
            "Building wheels for collected packages: pyspark\n",
            "  Building wheel for pyspark (setup.py) ... \u001b[?25l\u001b[?25hdone\n",
            "  Created wheel for pyspark: filename=pyspark-3.5.0-py2.py3-none-any.whl size=317425344 sha256=7cb90e7227419cdd175d93bd84763e77095122d9388051bdcabb1950de5e8bb9\n",
            "  Stored in directory: /root/.cache/pip/wheels/41/4e/10/c2cf2467f71c678cfc8a6b9ac9241e5e44a01940da8fbb17fc\n",
            "Successfully built pyspark\n",
            "Installing collected packages: pyspark\n",
            "Successfully installed pyspark-3.5.0\n"
          ]
        }
      ]
    },
    {
      "cell_type": "code",
      "execution_count": 4,
      "metadata": {
        "id": "aSTqDVVkepho"
      },
      "outputs": [],
      "source": [
        "from pyspark.sql import SparkSession\n",
        "from pyspark.ml.classification import RandomForestClassifier\n",
        "\n",
        "spark = SparkSession.builder.getOrCreate()"
      ]
    },
    {
      "cell_type": "code",
      "execution_count": 5,
      "metadata": {
        "id": "b5rRYZ-TevyG"
      },
      "outputs": [],
      "source": [
        "df_external = spark.read.format('csv').option('header','true').load('gcs_external_sources.csv')"
      ]
    },
    {
      "cell_type": "code",
      "execution_count": 6,
      "metadata": {
        "id": "AMvr8HtFgZOT"
      },
      "outputs": [],
      "source": [
        "df_internal = spark.read.format('csv').option('header','true').load('gcs_internal_data.csv')"
      ]
    },
    {
      "cell_type": "code",
      "execution_count": 7,
      "metadata": {
        "id": "0E4AarV9gdcD",
        "colab": {
          "base_uri": "https://localhost:8080/"
        },
        "outputId": "621f7240-1321-4064-c75c-50338834d6cc"
      },
      "outputs": [
        {
          "output_type": "stream",
          "name": "stdout",
          "text": [
            "+----------+-------------------+-------------------+-------------------+\n",
            "|SK_ID_CURR|       EXT_SOURCE_1|       EXT_SOURCE_2|       EXT_SOURCE_3|\n",
            "+----------+-------------------+-------------------+-------------------+\n",
            "|    100002|0.08303696739132256| 0.2629485927471776|0.13937578009978951|\n",
            "|    100003| 0.3112673113812225| 0.6222457752555098|               NULL|\n",
            "|    100004|               NULL| 0.5559120833904428| 0.7295666907060153|\n",
            "|    100006|               NULL| 0.6504416904014653|               NULL|\n",
            "|    100007|               NULL| 0.3227382869704046|               NULL|\n",
            "|    100008|               NULL| 0.3542247319929012| 0.6212263380626669|\n",
            "|    100009| 0.7747614130547695| 0.7239998516953141| 0.4920600938649263|\n",
            "|    100010|               NULL| 0.7142792864482229| 0.5406544504453575|\n",
            "|    100011| 0.5873340468730377|0.20574728800732814| 0.7517237147741489|\n",
            "|    100012|               NULL| 0.7466436294590924|               NULL|\n",
            "|    100014| 0.3197601716755032| 0.6518623334244781|  0.363945238612397|\n",
            "|    100015| 0.7220444501416448| 0.5551831615131809| 0.6528965519806539|\n",
            "|    100016| 0.4648311169632833| 0.7150418188660659| 0.1766525794312139|\n",
            "|    100017|               NULL| 0.5669066132460429| 0.7700870700124128|\n",
            "|    100018| 0.7219397686622343| 0.6426562048311103|               NULL|\n",
            "|    100019|0.11563433726229973|   0.34663398139668| 0.6785676886853644|\n",
            "|    100020|               NULL| 0.2363778398884225|0.06210303783729682|\n",
            "|    100021|               NULL| 0.6835133461914255|               NULL|\n",
            "|    100022|               NULL| 0.7064284028871654| 0.5567274263630174|\n",
            "|    100023|               NULL| 0.5866171400119664| 0.4776491548517548|\n",
            "+----------+-------------------+-------------------+-------------------+\n",
            "only showing top 20 rows\n",
            "\n"
          ]
        }
      ],
      "source": [
        "df_external.show()"
      ]
    },
    {
      "cell_type": "code",
      "execution_count": 8,
      "metadata": {
        "id": "aqc-yYRIgiNx",
        "colab": {
          "base_uri": "https://localhost:8080/"
        },
        "outputId": "c61bf711-6d3e-4abf-839e-2621d39890e2"
      },
      "outputs": [
        {
          "output_type": "stream",
          "name": "stdout",
          "text": [
            "+----------+------+------------------+-----------+------------+---------------+------------+----------------+----------+-----------+---------------+---------------+--------------------+--------------------+--------------------+-----------------+--------------------------+----------+-------------+-----------------+---------------+-----------+----------+--------------+---------------+----------------+----------+----------+---------------+---------------+--------------------+---------------------------+--------------------------+-----------------------+--------------------------+--------------------------+---------------------------+----------------------+----------------------+-----------------------+--------------------+--------------+----------------+---------------------------+------------------+--------------+-------------+-------------+-------------+-------------+--------------------+--------------------+--------------------+-----------------------+-----------------+---------------+-------------------+----------------------------+----------------+---------------+--------------+--------------+--------------+--------------+-------------+---------------------+---------------+------------------------+------------------+---------------+-----------------+----------------------------+------------------+---------------+--------------+--------------+--------------+--------------+-------------+---------------------+---------------+------------------------+------------------+------------------+--------------+--------------+------------------+-------------------+------------------------+------------------------+------------------------+------------------------+----------------------+---------------+---------------+---------------+---------------+---------------+---------------+---------------+---------------+----------------+----------------+----------------+----------------+----------------+----------------+----------------+----------------+----------------+----------------+----------------+----------------+--------------------------+-------------------------+--------------------------+-------------------------+-------------------------+--------------------------+\n",
            "|SK_ID_CURR|TARGET|NAME_CONTRACT_TYPE|CODE_GENDER|FLAG_OWN_CAR|FLAG_OWN_REALTY|CNT_CHILDREN|AMT_INCOME_TOTAL|AMT_CREDIT|AMT_ANNUITY|AMT_GOODS_PRICE|NAME_TYPE_SUITE|    NAME_INCOME_TYPE| NAME_EDUCATION_TYPE|  NAME_FAMILY_STATUS|NAME_HOUSING_TYPE|REGION_POPULATION_RELATIVE|DAYS_BIRTH|DAYS_EMPLOYED|DAYS_REGISTRATION|DAYS_ID_PUBLISH|OWN_CAR_AGE|FLAG_MOBIL|FLAG_EMP_PHONE|FLAG_WORK_PHONE|FLAG_CONT_MOBILE|FLAG_PHONE|FLAG_EMAIL|OCCUPATION_TYPE|CNT_FAM_MEMBERS|REGION_RATING_CLIENT|REGION_RATING_CLIENT_W_CITY|WEEKDAY_APPR_PROCESS_START|HOUR_APPR_PROCESS_START|REG_REGION_NOT_LIVE_REGION|REG_REGION_NOT_WORK_REGION|LIVE_REGION_NOT_WORK_REGION|REG_CITY_NOT_LIVE_CITY|REG_CITY_NOT_WORK_CITY|LIVE_CITY_NOT_WORK_CITY|   ORGANIZATION_TYPE|APARTMENTS_AVG|BASEMENTAREA_AVG|YEARS_BEGINEXPLUATATION_AVG|   YEARS_BUILD_AVG|COMMONAREA_AVG|ELEVATORS_AVG|ENTRANCES_AVG|FLOORSMAX_AVG|FLOORSMIN_AVG|        LANDAREA_AVG|LIVINGAPARTMENTS_AVG|      LIVINGAREA_AVG|NONLIVINGAPARTMENTS_AVG|NONLIVINGAREA_AVG|APARTMENTS_MODE|  BASEMENTAREA_MODE|YEARS_BEGINEXPLUATATION_MODE|YEARS_BUILD_MODE|COMMONAREA_MODE|ELEVATORS_MODE|ENTRANCES_MODE|FLOORSMAX_MODE|FLOORSMIN_MODE|LANDAREA_MODE|LIVINGAPARTMENTS_MODE|LIVINGAREA_MODE|NONLIVINGAPARTMENTS_MODE|NONLIVINGAREA_MODE|APARTMENTS_MEDI|BASEMENTAREA_MEDI|YEARS_BEGINEXPLUATATION_MEDI|  YEARS_BUILD_MEDI|COMMONAREA_MEDI|ELEVATORS_MEDI|ENTRANCES_MEDI|FLOORSMAX_MEDI|FLOORSMIN_MEDI|LANDAREA_MEDI|LIVINGAPARTMENTS_MEDI|LIVINGAREA_MEDI|NONLIVINGAPARTMENTS_MEDI|NONLIVINGAREA_MEDI|FONDKAPREMONT_MODE|HOUSETYPE_MODE|TOTALAREA_MODE|WALLSMATERIAL_MODE|EMERGENCYSTATE_MODE|OBS_30_CNT_SOCIAL_CIRCLE|DEF_30_CNT_SOCIAL_CIRCLE|OBS_60_CNT_SOCIAL_CIRCLE|DEF_60_CNT_SOCIAL_CIRCLE|DAYS_LAST_PHONE_CHANGE|FLAG_DOCUMENT_2|FLAG_DOCUMENT_3|FLAG_DOCUMENT_4|FLAG_DOCUMENT_5|FLAG_DOCUMENT_6|FLAG_DOCUMENT_7|FLAG_DOCUMENT_8|FLAG_DOCUMENT_9|FLAG_DOCUMENT_10|FLAG_DOCUMENT_11|FLAG_DOCUMENT_12|FLAG_DOCUMENT_13|FLAG_DOCUMENT_14|FLAG_DOCUMENT_15|FLAG_DOCUMENT_16|FLAG_DOCUMENT_17|FLAG_DOCUMENT_18|FLAG_DOCUMENT_19|FLAG_DOCUMENT_20|FLAG_DOCUMENT_21|AMT_REQ_CREDIT_BUREAU_HOUR|AMT_REQ_CREDIT_BUREAU_DAY|AMT_REQ_CREDIT_BUREAU_WEEK|AMT_REQ_CREDIT_BUREAU_MON|AMT_REQ_CREDIT_BUREAU_QRT|AMT_REQ_CREDIT_BUREAU_YEAR|\n",
            "+----------+------+------------------+-----------+------------+---------------+------------+----------------+----------+-----------+---------------+---------------+--------------------+--------------------+--------------------+-----------------+--------------------------+----------+-------------+-----------------+---------------+-----------+----------+--------------+---------------+----------------+----------+----------+---------------+---------------+--------------------+---------------------------+--------------------------+-----------------------+--------------------------+--------------------------+---------------------------+----------------------+----------------------+-----------------------+--------------------+--------------+----------------+---------------------------+------------------+--------------+-------------+-------------+-------------+-------------+--------------------+--------------------+--------------------+-----------------------+-----------------+---------------+-------------------+----------------------------+----------------+---------------+--------------+--------------+--------------+--------------+-------------+---------------------+---------------+------------------------+------------------+---------------+-----------------+----------------------------+------------------+---------------+--------------+--------------+--------------+--------------+-------------+---------------------+---------------+------------------------+------------------+------------------+--------------+--------------+------------------+-------------------+------------------------+------------------------+------------------------+------------------------+----------------------+---------------+---------------+---------------+---------------+---------------+---------------+---------------+---------------+----------------+----------------+----------------+----------------+----------------+----------------+----------------+----------------+----------------+----------------+----------------+----------------+--------------------------+-------------------------+--------------------------+-------------------------+-------------------------+--------------------------+\n",
            "|    100002|     1|        Cash loans|          M|           N|              Y|           0|        202500.0|  406597.5|    24700.5|       351000.0|  Unaccompanied|             Working|Secondary / secon...|Single / not married|House / apartment|                  0.018801|     -9461|         -637|          -3648.0|          -2120|       NULL|         1|             1|              0|               1|         1|         0|       Laborers|            1.0|                   2|                          2|                 WEDNESDAY|                     10|                         0|                         0|                          0|                     0|                     0|                      0|Business Entity T...|        0.0247|          0.0369|                     0.9722|            0.6192|        0.0143|          0.0|        0.069|       0.0833|        0.125|              0.0369|              0.0202|               0.019|                    0.0|              0.0|         0.0252|             0.0383|                      0.9722|          0.6341|         0.0144|           0.0|         0.069|        0.0833|         0.125|       0.0377| 0.022000000000000002|         0.0198|                     0.0|               0.0|          0.025|           0.0369|                      0.9722|            0.6243|         0.0144|           0.0|         0.069|        0.0833|         0.125|       0.0375|               0.0205|         0.0193|                     0.0|               0.0|  reg oper account|block of flats|        0.0149|      Stone, brick|                 No|                     2.0|                     2.0|                     2.0|                     2.0|               -1134.0|              0|              1|              0|              0|              0|              0|              0|              0|               0|               0|               0|               0|               0|               0|               0|               0|               0|               0|               0|               0|                       0.0|                      0.0|                       0.0|                      0.0|                      0.0|                       1.0|\n",
            "|    100003|     0|        Cash loans|          F|           N|              N|           0|        270000.0| 1293502.5|    35698.5|      1129500.0|         Family|       State servant|    Higher education|             Married|House / apartment|      0.003540999999999999|    -16765|        -1188|          -1186.0|           -291|       NULL|         1|             1|              0|               1|         1|         0|     Core staff|            2.0|                   1|                          1|                    MONDAY|                     11|                         0|                         0|                          0|                     0|                     0|                      0|              School|        0.0959|          0.0529|                     0.9851|0.7959999999999999|        0.0605|         0.08|       0.0345|       0.2917|       0.3333|0.013000000000000001|              0.0773|              0.0549|                 0.0039|           0.0098|         0.0924|             0.0538|                      0.9851|           0.804|         0.0497|        0.0806|        0.0345|        0.2917|        0.3333|       0.0128|                0.079|         0.0554|                     0.0|               0.0|         0.0968|           0.0529|                      0.9851|            0.7987|         0.0608|          0.08|        0.0345|        0.2917|        0.3333|       0.0132|               0.0787|         0.0558|                  0.0039|              0.01|  reg oper account|block of flats|        0.0714|             Block|                 No|                     1.0|                     0.0|                     1.0|                     0.0|                -828.0|              0|              1|              0|              0|              0|              0|              0|              0|               0|               0|               0|               0|               0|               0|               0|               0|               0|               0|               0|               0|                       0.0|                      0.0|                       0.0|                      0.0|                      0.0|                       0.0|\n",
            "|    100004|     0|   Revolving loans|          M|           Y|              Y|           0|         67500.0|  135000.0|     6750.0|       135000.0|  Unaccompanied|             Working|Secondary / secon...|Single / not married|House / apartment|                  0.010032|    -19046|         -225|          -4260.0|          -2531|       26.0|         1|             1|              1|               1|         1|         0|       Laborers|            1.0|                   2|                          2|                    MONDAY|                      9|                         0|                         0|                          0|                     0|                     0|                      0|          Government|          NULL|            NULL|                       NULL|              NULL|          NULL|         NULL|         NULL|         NULL|         NULL|                NULL|                NULL|                NULL|                   NULL|             NULL|           NULL|               NULL|                        NULL|            NULL|           NULL|          NULL|          NULL|          NULL|          NULL|         NULL|                 NULL|           NULL|                    NULL|              NULL|           NULL|             NULL|                        NULL|              NULL|           NULL|          NULL|          NULL|          NULL|          NULL|         NULL|                 NULL|           NULL|                    NULL|              NULL|              NULL|          NULL|          NULL|              NULL|               NULL|                     0.0|                     0.0|                     0.0|                     0.0|                -815.0|              0|              0|              0|              0|              0|              0|              0|              0|               0|               0|               0|               0|               0|               0|               0|               0|               0|               0|               0|               0|                       0.0|                      0.0|                       0.0|                      0.0|                      0.0|                       0.0|\n",
            "|    100006|     0|        Cash loans|          F|           N|              Y|           0|        135000.0|  312682.5|    29686.5|       297000.0|  Unaccompanied|             Working|Secondary / secon...|      Civil marriage|House / apartment|                  0.008019|    -19005|        -3039|          -9833.0|          -2437|       NULL|         1|             1|              0|               1|         0|         0|       Laborers|            2.0|                   2|                          2|                 WEDNESDAY|                     17|                         0|                         0|                          0|                     0|                     0|                      0|Business Entity T...|          NULL|            NULL|                       NULL|              NULL|          NULL|         NULL|         NULL|         NULL|         NULL|                NULL|                NULL|                NULL|                   NULL|             NULL|           NULL|               NULL|                        NULL|            NULL|           NULL|          NULL|          NULL|          NULL|          NULL|         NULL|                 NULL|           NULL|                    NULL|              NULL|           NULL|             NULL|                        NULL|              NULL|           NULL|          NULL|          NULL|          NULL|          NULL|         NULL|                 NULL|           NULL|                    NULL|              NULL|              NULL|          NULL|          NULL|              NULL|               NULL|                     2.0|                     0.0|                     2.0|                     0.0|                -617.0|              0|              1|              0|              0|              0|              0|              0|              0|               0|               0|               0|               0|               0|               0|               0|               0|               0|               0|               0|               0|                      NULL|                     NULL|                      NULL|                     NULL|                     NULL|                      NULL|\n",
            "|    100007|     0|        Cash loans|          M|           N|              Y|           0|        121500.0|  513000.0|    21865.5|       513000.0|  Unaccompanied|             Working|Secondary / secon...|Single / not married|House / apartment|                  0.028663|    -19932|        -3038|          -4311.0|          -3458|       NULL|         1|             1|              0|               1|         0|         0|     Core staff|            1.0|                   2|                          2|                  THURSDAY|                     11|                         0|                         0|                          0|                     0|                     1|                      1|            Religion|          NULL|            NULL|                       NULL|              NULL|          NULL|         NULL|         NULL|         NULL|         NULL|                NULL|                NULL|                NULL|                   NULL|             NULL|           NULL|               NULL|                        NULL|            NULL|           NULL|          NULL|          NULL|          NULL|          NULL|         NULL|                 NULL|           NULL|                    NULL|              NULL|           NULL|             NULL|                        NULL|              NULL|           NULL|          NULL|          NULL|          NULL|          NULL|         NULL|                 NULL|           NULL|                    NULL|              NULL|              NULL|          NULL|          NULL|              NULL|               NULL|                     0.0|                     0.0|                     0.0|                     0.0|               -1106.0|              0|              0|              0|              0|              0|              0|              1|              0|               0|               0|               0|               0|               0|               0|               0|               0|               0|               0|               0|               0|                       0.0|                      0.0|                       0.0|                      0.0|                      0.0|                       0.0|\n",
            "|    100008|     0|        Cash loans|          M|           N|              Y|           0|         99000.0|  490495.5|    27517.5|       454500.0|Spouse, partner|       State servant|Secondary / secon...|             Married|House / apartment|      0.035792000000000004|    -16941|        -1588|          -4970.0|           -477|       NULL|         1|             1|              1|               1|         1|         0|       Laborers|            2.0|                   2|                          2|                 WEDNESDAY|                     16|                         0|                         0|                          0|                     0|                     0|                      0|               Other|          NULL|            NULL|                       NULL|              NULL|          NULL|         NULL|         NULL|         NULL|         NULL|                NULL|                NULL|                NULL|                   NULL|             NULL|           NULL|               NULL|                        NULL|            NULL|           NULL|          NULL|          NULL|          NULL|          NULL|         NULL|                 NULL|           NULL|                    NULL|              NULL|           NULL|             NULL|                        NULL|              NULL|           NULL|          NULL|          NULL|          NULL|          NULL|         NULL|                 NULL|           NULL|                    NULL|              NULL|              NULL|          NULL|          NULL|              NULL|               NULL|                     0.0|                     0.0|                     0.0|                     0.0|               -2536.0|              0|              1|              0|              0|              0|              0|              0|              0|               0|               0|               0|               0|               0|               0|               0|               0|               0|               0|               0|               0|                       0.0|                      0.0|                       0.0|                      0.0|                      1.0|                       1.0|\n",
            "|    100009|     0|        Cash loans|          F|           Y|              Y|           1|        171000.0| 1560726.0|    41301.0|      1395000.0|  Unaccompanied|Commercial associate|    Higher education|             Married|House / apartment|      0.035792000000000004|    -13778|        -3130|          -1213.0|           -619|       17.0|         1|             1|              0|               1|         1|         0|    Accountants|            3.0|                   2|                          2|                    SUNDAY|                     16|                         0|                         0|                          0|                     0|                     0|                      0|Business Entity T...|          NULL|            NULL|                       NULL|              NULL|          NULL|         NULL|         NULL|         NULL|         NULL|                NULL|                NULL|                NULL|                   NULL|             NULL|           NULL|               NULL|                        NULL|            NULL|           NULL|          NULL|          NULL|          NULL|          NULL|         NULL|                 NULL|           NULL|                    NULL|              NULL|           NULL|             NULL|                        NULL|              NULL|           NULL|          NULL|          NULL|          NULL|          NULL|         NULL|                 NULL|           NULL|                    NULL|              NULL|              NULL|          NULL|          NULL|              NULL|               NULL|                     1.0|                     0.0|                     1.0|                     0.0|               -1562.0|              0|              0|              0|              0|              0|              0|              1|              0|               0|               0|               0|               0|               1|               0|               0|               0|               0|               0|               0|               0|                       0.0|                      0.0|                       0.0|                      1.0|                      1.0|                       2.0|\n",
            "|    100010|     0|        Cash loans|          M|           Y|              Y|           0|        360000.0| 1530000.0|    42075.0|      1530000.0|  Unaccompanied|       State servant|    Higher education|             Married|House / apartment|                  0.003122|    -18850|         -449|          -4597.0|          -2379|        8.0|         1|             1|              1|               1|         0|         0|       Managers|            2.0|                   3|                          3|                    MONDAY|                     16|                         0|                         0|                          0|                     0|                     1|                      1|               Other|          NULL|            NULL|                       NULL|              NULL|          NULL|         NULL|         NULL|         NULL|         NULL|                NULL|                NULL|                NULL|                   NULL|             NULL|           NULL|               NULL|                        NULL|            NULL|           NULL|          NULL|          NULL|          NULL|          NULL|         NULL|                 NULL|           NULL|                    NULL|              NULL|           NULL|             NULL|                        NULL|              NULL|           NULL|          NULL|          NULL|          NULL|          NULL|         NULL|                 NULL|           NULL|                    NULL|              NULL|              NULL|          NULL|          NULL|              NULL|               NULL|                     2.0|                     0.0|                     2.0|                     0.0|               -1070.0|              0|              1|              0|              0|              0|              0|              0|              0|               0|               0|               0|               0|               0|               0|               0|               0|               0|               0|               0|               0|                       0.0|                      0.0|                       0.0|                      0.0|                      0.0|                       0.0|\n",
            "|    100011|     0|        Cash loans|          F|           N|              Y|           0|        112500.0| 1019610.0|    33826.5|       913500.0|       Children|           Pensioner|Secondary / secon...|             Married|House / apartment|                  0.018634|    -20099|       365243|          -7427.0|          -3514|       NULL|         1|             0|              0|               1|         0|         0|           NULL|            2.0|                   2|                          2|                 WEDNESDAY|                     14|                         0|                         0|                          0|                     0|                     0|                      0|                 XNA|          NULL|            NULL|                       NULL|              NULL|          NULL|         NULL|         NULL|         NULL|         NULL|                NULL|                NULL|                NULL|                   NULL|             NULL|           NULL|               NULL|                        NULL|            NULL|           NULL|          NULL|          NULL|          NULL|          NULL|         NULL|                 NULL|           NULL|                    NULL|              NULL|           NULL|             NULL|                        NULL|              NULL|           NULL|          NULL|          NULL|          NULL|          NULL|         NULL|                 NULL|           NULL|                    NULL|              NULL|              NULL|          NULL|          NULL|              NULL|               NULL|                     1.0|                     0.0|                     1.0|                     0.0|                   0.0|              0|              1|              0|              0|              0|              0|              0|              0|               0|               0|               0|               0|               0|               0|               0|               0|               0|               0|               0|               0|                       0.0|                      0.0|                       0.0|                      0.0|                      0.0|                       1.0|\n",
            "|    100012|     0|   Revolving loans|          M|           N|              Y|           0|        135000.0|  405000.0|    20250.0|       405000.0|  Unaccompanied|             Working|Secondary / secon...|Single / not married|House / apartment|                  0.019689|    -14469|        -2019|         -14437.0|          -3992|       NULL|         1|             1|              0|               1|         0|         0|       Laborers|            1.0|                   2|                          2|                  THURSDAY|                      8|                         0|                         0|                          0|                     0|                     0|                      0|         Electricity|          NULL|            NULL|                       NULL|              NULL|          NULL|         NULL|         NULL|         NULL|         NULL|                NULL|                NULL|                NULL|                   NULL|             NULL|           NULL|               NULL|                        NULL|            NULL|           NULL|          NULL|          NULL|          NULL|          NULL|         NULL|                 NULL|           NULL|                    NULL|              NULL|           NULL|             NULL|                        NULL|              NULL|           NULL|          NULL|          NULL|          NULL|          NULL|         NULL|                 NULL|           NULL|                    NULL|              NULL|              NULL|          NULL|          NULL|              NULL|               NULL|                     2.0|                     0.0|                     2.0|                     0.0|               -1673.0|              0|              0|              0|              0|              0|              0|              0|              0|               0|               0|               0|               0|               0|               0|               0|               0|               0|               0|               0|               0|                      NULL|                     NULL|                      NULL|                     NULL|                     NULL|                      NULL|\n",
            "|    100014|     0|        Cash loans|          F|           N|              Y|           1|        112500.0|  652500.0|    21177.0|       652500.0|  Unaccompanied|             Working|    Higher education|             Married|House / apartment|                    0.0228|    -10197|         -679|          -4427.0|           -738|       NULL|         1|             1|              0|               1|         0|         0|     Core staff|            3.0|                   2|                          2|                  SATURDAY|                     15|                         0|                         0|                          0|                     0|                     0|                      0|            Medicine|          NULL|            NULL|                       NULL|              NULL|          NULL|         NULL|         NULL|         NULL|         NULL|                NULL|                NULL|                NULL|                   NULL|             NULL|           NULL|               NULL|                        NULL|            NULL|           NULL|          NULL|          NULL|          NULL|          NULL|         NULL|                 NULL|           NULL|                    NULL|              NULL|           NULL|             NULL|                        NULL|              NULL|           NULL|          NULL|          NULL|          NULL|          NULL|         NULL|                 NULL|           NULL|                    NULL|              NULL|              NULL|          NULL|          NULL|              NULL|               NULL|                     0.0|                     0.0|                     0.0|                     0.0|                -844.0|              0|              1|              0|              0|              0|              0|              0|              0|               0|               0|               0|               0|               0|               0|               0|               0|               0|               0|               0|               0|                       0.0|                      0.0|                       0.0|                      1.0|                      0.0|                       0.0|\n",
            "|    100015|     0|        Cash loans|          F|           N|              Y|           0|       38419.155|  148365.0|    10678.5|       135000.0|       Children|           Pensioner|Secondary / secon...|             Married|House / apartment|                  0.015221|    -20417|       365243|          -5246.0|          -2512|       NULL|         1|             0|              0|               1|         1|         0|           NULL|            2.0|                   2|                          2|                    FRIDAY|                      7|                         0|                         0|                          0|                     0|                     0|                      0|                 XNA|          NULL|            NULL|                       NULL|              NULL|          NULL|         NULL|         NULL|         NULL|         NULL|                NULL|                NULL|                NULL|                   NULL|             NULL|           NULL|               NULL|                        NULL|            NULL|           NULL|          NULL|          NULL|          NULL|          NULL|         NULL|                 NULL|           NULL|                    NULL|              NULL|           NULL|             NULL|                        NULL|              NULL|           NULL|          NULL|          NULL|          NULL|          NULL|         NULL|                 NULL|           NULL|                    NULL|              NULL|              NULL|          NULL|          NULL|              NULL|               NULL|                     0.0|                     0.0|                     0.0|                     0.0|               -2396.0|              0|              0|              0|              0|              1|              0|              0|              0|               0|               0|               0|               0|               0|               0|               0|               0|               0|               0|               0|               0|                       0.0|                      0.0|                       0.0|                      0.0|                      0.0|                       2.0|\n",
            "|    100016|     0|        Cash loans|          F|           N|              Y|           0|         67500.0|   80865.0|     5881.5|        67500.0|  Unaccompanied|             Working|Secondary / secon...|             Married|House / apartment|                  0.031329|    -13439|        -2717|           -311.0|          -3227|       NULL|         1|             1|              1|               1|         1|         0|       Laborers|            2.0|                   2|                          2|                    FRIDAY|                     10|                         0|                         0|                          0|                     0|                     0|                      0|Business Entity T...|        0.0825|            NULL|                     0.9811|              NULL|          NULL|          0.0|       0.2069|       0.1667|         NULL|              0.0135|                NULL|              0.0778|                   NULL|              0.0|          0.084|               NULL|                      0.9811|            NULL|           NULL|           0.0|        0.2069|        0.1667|          NULL|       0.0138|                 NULL|          0.081|                    NULL|               0.0|         0.0833|             NULL|                      0.9811|              NULL|           NULL|           0.0|        0.2069|        0.1667|          NULL|       0.0137|                 NULL|         0.0792|                    NULL|               0.0|  reg oper account|block of flats|        0.0612|              NULL|                 No|                     0.0|                     0.0|                     0.0|                     0.0|               -2370.0|              0|              1|              0|              0|              0|              0|              0|              0|               0|               0|               0|               0|               0|               0|               0|               0|               0|               0|               0|               0|                       0.0|                      0.0|                       0.0|                      1.0|                      0.0|                       0.0|\n",
            "|    100017|     0|        Cash loans|          M|           Y|              N|           1|        225000.0|  918468.0|    28966.5|       697500.0|  Unaccompanied|             Working|Secondary / secon...|             Married|House / apartment|      0.016612000000000002|    -14086|        -3028|           -643.0|          -4911|       23.0|         1|             1|              0|               1|         0|         0|        Drivers|            3.0|                   2|                          2|                  THURSDAY|                     13|                         0|                         0|                          0|                     0|                     0|                      0|       Self-employed|        0.1474|          0.0973|                     0.9806|            0.7348|        0.0582|         0.16|       0.1379|       0.3333|        0.375|              0.0931|              0.1202|              0.1397|                    0.0|              0.0|         0.1502|0.10099999999999999|                      0.9806|          0.7452|         0.0587|        0.1611|        0.1379|        0.3333|         0.375|       0.0952|               0.1313|         0.1456|                     0.0|               0.0|         0.1489|           0.0973|                      0.9806|            0.7383|         0.0585|          0.16|        0.1379|        0.3333|         0.375|       0.0947|               0.1223|         0.1422|                     0.0|               0.0|  reg oper account|block of flats|        0.1417|             Panel|                 No|                     0.0|                     0.0|                     0.0|                     0.0|                  -4.0|              0|              1|              0|              0|              0|              0|              0|              0|               0|               0|               0|               0|               0|               0|               0|               0|               0|               0|               0|               0|                       0.0|                      0.0|                       0.0|                      0.0|                      0.0|                       1.0|\n",
            "|    100018|     0|        Cash loans|          F|           N|              Y|           0|        189000.0|  773680.5|    32778.0|       679500.0|  Unaccompanied|             Working|Secondary / secon...|             Married|House / apartment|                  0.010006|    -14583|         -203|           -615.0|          -2056|       NULL|         1|             1|              0|               1|         0|         0|       Laborers|            2.0|                   2|                          1|                    MONDAY|                      9|                         0|                         0|                          0|                     0|                     0|                      0|   Transport: type 2|        0.3495|          0.1335|                     0.9985|            0.9796|        0.1143|          0.4|       0.1724|       0.6667|       0.7083|              0.1758|              0.2849|              0.3774|                 0.0193|           0.1001|         0.3561|             0.1386|                      0.9985|          0.9804|         0.1153|        0.4028|        0.1724|        0.6667|        0.7083|       0.1798|               0.3113|         0.3932|                  0.0195|             0.106|         0.3529|           0.1335|                      0.9985|            0.9799|          0.115|           0.4|        0.1724|        0.6667|        0.7083|       0.1789|               0.2899|         0.3842|                  0.0194|            0.1022|  reg oper account|block of flats|        0.3811|             Panel|                 No|                     0.0|                     0.0|                     0.0|                     0.0|                -188.0|              0|              1|              0|              0|              0|              0|              0|              0|               0|               0|               0|               0|               0|               0|               0|               0|               0|               0|               0|               0|                      NULL|                     NULL|                      NULL|                     NULL|                     NULL|                      NULL|\n",
            "|    100019|     0|        Cash loans|          M|           Y|              Y|           0|        157500.0|  299772.0|    20160.0|       247500.0|         Family|             Working|Secondary / secon...|Single / not married| Rented apartment|                  0.020713|     -8728|        -1157|          -3494.0|          -1368|       17.0|         1|             1|              0|               1|         0|         0|       Laborers|            1.0|                   3|                          3|                  SATURDAY|                      6|                         0|                         0|                          0|                     1|                     1|                      0|Business Entity T...|          NULL|            NULL|                       NULL|              NULL|          NULL|         NULL|         NULL|         NULL|         NULL|                NULL|                NULL|                NULL|                   NULL|             NULL|           NULL|               NULL|                        NULL|            NULL|           NULL|          NULL|          NULL|          NULL|          NULL|         NULL|                 NULL|           NULL|                    NULL|              NULL|           NULL|             NULL|                        NULL|              NULL|           NULL|          NULL|          NULL|          NULL|          NULL|         NULL|                 NULL|           NULL|                    NULL|              NULL|              NULL|          NULL|          NULL|              NULL|               NULL|                     0.0|                     0.0|                     0.0|                     0.0|                -925.0|              0|              0|              0|              0|              0|              0|              1|              0|               0|               0|               0|               0|               0|               0|               0|               0|               0|               0|               0|               0|                       0.0|                      0.0|                       0.0|                      0.0|                      0.0|                       1.0|\n",
            "|    100020|     0|        Cash loans|          M|           N|              N|           0|        108000.0|  509602.5|    26149.5|       387000.0|  Unaccompanied|             Working|Secondary / secon...|             Married|House / apartment|                  0.018634|    -12931|        -1317|          -6392.0|          -3866|       NULL|         1|             1|              0|               1|         0|         0|        Drivers|            2.0|                   2|                          2|                  THURSDAY|                     12|                         0|                         0|                          0|                     1|                     1|                      0|          Government|          NULL|            NULL|                       NULL|              NULL|          NULL|         NULL|         NULL|         NULL|         NULL|                NULL|                NULL|                NULL|                   NULL|             NULL|           NULL|               NULL|                        NULL|            NULL|           NULL|          NULL|          NULL|          NULL|          NULL|         NULL|                 NULL|           NULL|                    NULL|              NULL|           NULL|             NULL|                        NULL|              NULL|           NULL|          NULL|          NULL|          NULL|          NULL|         NULL|                 NULL|           NULL|                    NULL|              NULL|              NULL|          NULL|          NULL|              NULL|               NULL|                     0.0|                     0.0|                     0.0|                     0.0|                  -3.0|              0|              1|              0|              0|              0|              0|              0|              0|               0|               0|               0|               0|               0|               0|               0|               0|               0|               0|               0|               0|                       0.0|                      0.0|                       0.0|                      0.0|                      1.0|                       0.0|\n",
            "|    100021|     0|   Revolving loans|          F|           N|              Y|           1|         81000.0|  270000.0|    13500.0|       270000.0|  Unaccompanied|             Working|Secondary / secon...|             Married|House / apartment|                  0.010966|     -9776|         -191|          -4143.0|          -2427|       NULL|         1|             1|              0|               1|         0|         0|       Laborers|            3.0|                   2|                          2|                    MONDAY|                     10|                         0|                         0|                          0|                     1|                     1|                      0|        Construction|          NULL|            NULL|                       NULL|              NULL|          NULL|         NULL|         NULL|         NULL|         NULL|                NULL|                NULL|                NULL|                   NULL|             NULL|           NULL|               NULL|                        NULL|            NULL|           NULL|          NULL|          NULL|          NULL|          NULL|         NULL|                 NULL|           NULL|                    NULL|              NULL|           NULL|             NULL|                        NULL|              NULL|           NULL|          NULL|          NULL|          NULL|          NULL|         NULL|                 NULL|           NULL|                    NULL|              NULL|              NULL|          NULL|          NULL|              NULL|               NULL|                     4.0|                     0.0|                     4.0|                     0.0|               -2811.0|              0|              0|              0|              0|              0|              0|              0|              0|               0|               0|               0|               0|               0|               0|               0|               0|               0|               0|               0|               0|                      NULL|                     NULL|                      NULL|                     NULL|                     NULL|                      NULL|\n",
            "|    100022|     0|   Revolving loans|          F|           N|              Y|           0|        112500.0|  157500.0|     7875.0|       157500.0|        Other_A|             Working|Secondary / secon...|               Widow|House / apartment|                   0.04622|    -17718|        -7804|          -8751.0|          -1259|       NULL|         1|             1|              0|               1|         1|         0|       Laborers|            1.0|                   1|                          1|                    FRIDAY|                     13|                         0|                         0|                          0|                     0|                     0|                      0|             Housing|        0.0278|          0.0617|                     0.9881|            0.8368|        0.0018|          0.0|       0.1034|       0.0833|        0.125|              0.0279|              0.0227|0.028999999999999998|                    0.0|              0.0|         0.0284|              0.064|                      0.9881|          0.8432|         0.0018|           0.0|        0.1034|        0.0833|         0.125|       0.0286|               0.0248|         0.0302|                     0.0|               0.0|         0.0281|           0.0617|                      0.9881|0.8390000000000001|         0.0018|           0.0|        0.1034|        0.0833|         0.125|       0.0284|               0.0231|         0.0295|                     0.0|               0.0|  reg oper account|block of flats|        0.0238|      Stone, brick|                 No|                     8.0|                     0.0|                     8.0|                     0.0|                -239.0|              0|              1|              0|              0|              0|              0|              0|              0|               0|               0|               0|               0|               0|               0|               0|               0|               0|               0|               0|               0|                       0.0|                      0.0|                       0.0|                      0.0|                      0.0|                       0.0|\n",
            "|    100023|     0|        Cash loans|          F|           N|              Y|           1|         90000.0|  544491.0|    17563.5|       454500.0|  Unaccompanied|       State servant|    Higher education|Single / not married|House / apartment|                  0.015221|    -11348|        -2038|          -1021.0|          -3964|       NULL|         1|             1|              1|               1|         1|         0|     Core staff|            2.0|                   2|                          2|                    MONDAY|                     12|                         0|                         0|                          0|                     0|                     0|                      0|        Kindergarten|          NULL|            NULL|                       NULL|              NULL|          NULL|         NULL|         NULL|         NULL|         NULL|                NULL|                NULL|                NULL|                   NULL|             NULL|           NULL|               NULL|                        NULL|            NULL|           NULL|          NULL|          NULL|          NULL|          NULL|         NULL|                 NULL|           NULL|                    NULL|              NULL|           NULL|             NULL|                        NULL|              NULL|           NULL|          NULL|          NULL|          NULL|          NULL|         NULL|                 NULL|           NULL|                    NULL|              NULL|              NULL|          NULL|          NULL|              NULL|               NULL|                     0.0|                     0.0|                     0.0|                     0.0|               -1850.0|              0|              1|              0|              0|              0|              0|              0|              0|               0|               0|               0|               0|               0|               0|               0|               0|               0|               0|               0|               0|                       0.0|                      0.0|                       0.0|                      0.0|                      0.0|                       2.0|\n",
            "+----------+------+------------------+-----------+------------+---------------+------------+----------------+----------+-----------+---------------+---------------+--------------------+--------------------+--------------------+-----------------+--------------------------+----------+-------------+-----------------+---------------+-----------+----------+--------------+---------------+----------------+----------+----------+---------------+---------------+--------------------+---------------------------+--------------------------+-----------------------+--------------------------+--------------------------+---------------------------+----------------------+----------------------+-----------------------+--------------------+--------------+----------------+---------------------------+------------------+--------------+-------------+-------------+-------------+-------------+--------------------+--------------------+--------------------+-----------------------+-----------------+---------------+-------------------+----------------------------+----------------+---------------+--------------+--------------+--------------+--------------+-------------+---------------------+---------------+------------------------+------------------+---------------+-----------------+----------------------------+------------------+---------------+--------------+--------------+--------------+--------------+-------------+---------------------+---------------+------------------------+------------------+------------------+--------------+--------------+------------------+-------------------+------------------------+------------------------+------------------------+------------------------+----------------------+---------------+---------------+---------------+---------------+---------------+---------------+---------------+---------------+----------------+----------------+----------------+----------------+----------------+----------------+----------------+----------------+----------------+----------------+----------------+----------------+--------------------------+-------------------------+--------------------------+-------------------------+-------------------------+--------------------------+\n",
            "only showing top 20 rows\n",
            "\n"
          ]
        }
      ],
      "source": [
        "df_internal.show()"
      ]
    },
    {
      "cell_type": "code",
      "execution_count": 9,
      "metadata": {
        "id": "OzwEfUyXgm-N"
      },
      "outputs": [],
      "source": [
        "data = df_internal.join(df_external,on='SK_ID_CURR')\n",
        "data=data.withColumn(\"TARGET\",data.TARGET.cast('integer'))"
      ]
    },
    {
      "cell_type": "code",
      "execution_count": 10,
      "metadata": {
        "id": "At2BmTvDinU3"
      },
      "outputs": [],
      "source": [
        "columns_for_training = ['EXT_SOURCE_1', 'EXT_SOURCE_2', 'EXT_SOURCE_3',\n",
        "                  'DAYS_BIRTH', 'DAYS_EMPLOYED', 'NAME_EDUCATION_TYPE',\n",
        "                  'DAYS_ID_PUBLISH', 'CODE_GENDER', 'AMT_ANNUITY',\n",
        "                  'DAYS_REGISTRATION', 'AMT_GOODS_PRICE', 'AMT_CREDIT',\n",
        "                  'ORGANIZATION_TYPE', 'DAYS_LAST_PHONE_CHANGE',\n",
        "                  'NAME_INCOME_TYPE', 'AMT_INCOME_TOTAL', 'OWN_CAR_AGE', 'TARGET']\n",
        "data = data.select(columns_for_training)\n",
        "categoricals = ['NAME_EDUCATION_TYPE','CODE_GENDER','ORGANIZATION_TYPE','NAME_INCOME_TYPE']"
      ]
    },
    {
      "cell_type": "code",
      "execution_count": 11,
      "metadata": {
        "id": "Q1KW7UOxnBdU",
        "colab": {
          "base_uri": "https://localhost:8080/"
        },
        "outputId": "415ea7a6-d014-4a5d-95ae-d5ec21dcfb3a"
      },
      "outputs": [
        {
          "output_type": "stream",
          "name": "stdout",
          "text": [
            "+--------------------+------+\n",
            "|            features|TARGET|\n",
            "+--------------------+------+\n",
            "|(74,[0,6,8,66],[1...|     1|\n",
            "|(74,[1,5,15,69],[...|     0|\n",
            "|(74,[0,6,14,66],[...|     0|\n",
            "|(74,[0,5,8,66],[1...|     0|\n",
            "|(74,[0,6,61,66],[...|     0|\n",
            "+--------------------+------+\n",
            "only showing top 5 rows\n",
            "\n"
          ]
        }
      ],
      "source": [
        "from pyspark.ml.feature import StringIndexer, OneHotEncoder, VectorAssembler\n",
        "from pyspark.ml import Pipeline\n",
        "\n",
        "categorical_columns=  ['NAME_EDUCATION_TYPE','CODE_GENDER','ORGANIZATION_TYPE','NAME_INCOME_TYPE']\n",
        "\n",
        "# The index of string vlaues multiple columns\n",
        "indexers = [\n",
        "    StringIndexer(inputCol=c, outputCol=\"{0}_indexed\".format(c))\n",
        "    for c in categorical_columns\n",
        "]\n",
        "\n",
        "# The encode of indexed vlaues multiple columns\n",
        "encoders = [OneHotEncoder(dropLast=False,inputCol=indexer.getOutputCol(),\n",
        "            outputCol=\"{0}_encoded\".format(indexer.getOutputCol()))\n",
        "    for indexer in indexers\n",
        "]\n",
        "\n",
        "# Vectorizing encoded values\n",
        "assembler = VectorAssembler(inputCols=[encoder.getOutputCol() for encoder in encoders],outputCol=\"features\")\n",
        "\n",
        "pipeline = Pipeline(stages=indexers + encoders+[assembler])\n",
        "model=pipeline.fit(data)\n",
        "transformed = model.transform(data).select(['features','TARGET'])\n",
        "transformed.show(5)"
      ]
    },
    {
      "cell_type": "code",
      "source": [
        "# Split the data into training and test sets\n",
        "(train_data, test_data) = transformed.randomSplit([0.8, 0.2],seed=1)\n",
        "from pyspark.ml.classification import RandomForestClassifier\n",
        "from pyspark.ml.evaluation import BinaryClassificationEvaluator\n",
        "\n",
        "rf = RandomForestClassifier(featuresCol='features',labelCol='TARGET',seed=1)\n",
        "rf_model = rf.fit(train_data)\n",
        "scored_data = rf_model.transform(test_data)"
      ],
      "metadata": {
        "id": "oHyTdjEFGoTF"
      },
      "execution_count": 16,
      "outputs": []
    },
    {
      "cell_type": "code",
      "source": [
        "from pyspark.ml.evaluation import BinaryClassificationEvaluator\n",
        "\n",
        "evaluator = BinaryClassificationEvaluator(rawPredictionCol='probability',labelCol='TARGET')\n",
        "evaluator.evaluate(scored_data)"
      ],
      "metadata": {
        "colab": {
          "base_uri": "https://localhost:8080/"
        },
        "id": "Sp5tO0PyMuKG",
        "outputId": "8b715bca-c4d2-4f65-f225-cd872f44a8bc"
      },
      "execution_count": 17,
      "outputs": [
        {
          "output_type": "execute_result",
          "data": {
            "text/plain": [
              "0.604806819337855"
            ]
          },
          "metadata": {},
          "execution_count": 17
        }
      ]
    },
    {
      "cell_type": "code",
      "source": [],
      "metadata": {
        "id": "B3CzRENhOQ9V"
      },
      "execution_count": 13,
      "outputs": []
    }
  ],
  "metadata": {
    "colab": {
      "provenance": []
    },
    "kernelspec": {
      "display_name": "Python 3",
      "name": "python3"
    },
    "language_info": {
      "name": "python"
    }
  },
  "nbformat": 4,
  "nbformat_minor": 0
}